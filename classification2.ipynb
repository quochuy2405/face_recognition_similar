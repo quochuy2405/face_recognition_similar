{
 "cells": [
  {
   "cell_type": "code",
   "execution_count": 1,
   "metadata": {},
   "outputs": [],
   "source": [
    "import os\n",
    "import shutil\n",
    "import face_recognition\n",
    "\n",
    "# Load the images of the faces you want to compare\n",
    "image_folder_path = \"./cropped/\"\n",
    "full_images_folder = \"./full_images/\"\n",
    "\n",
    "# Create a directory to store similar images\n",
    "similar_images_folder = \"./similar_images/\"\n",
    "if not os.path.exists(similar_images_folder):\n",
    "    os.mkdir(similar_images_folder)\n",
    "\n",
    "# Load the encodings of the person1 image\n",
    "def find_and_create(image_path,name):\n",
    "\n",
    "    image_of_person1 = face_recognition.load_image_file(image_path)\n",
    "    person1_face_encoding = face_recognition.face_encodings(image_of_person1)[0]\n",
    "\n",
    "    # Iterate through the full images\n",
    "    for full_image_filename in os.listdir(full_images_folder):\n",
    "        full_image_path = os.path.join(full_images_folder, full_image_filename)\n",
    "        if os.path.isfile(full_image_path):\n",
    "            # Load the current full image\n",
    "            image_of_full = face_recognition.load_image_file(full_image_path)\n",
    "            \n",
    "            # Encode the face of the current full image\n",
    "            full_image_face_encoding = face_recognition.face_encodings(image_of_full)\n",
    "            \n",
    "            if len(full_image_face_encoding) > 0:\n",
    "                # Compare the face encodings and get a similarity score\n",
    "                face_similarity = face_recognition.face_distance([person1_face_encoding], full_image_face_encoding[0])\n",
    "                similarity_percentage = (1 - face_similarity[0]) * 100\n",
    "                \n",
    "                # Filter images with similarity > 70%\n",
    "                if similarity_percentage > 70:\n",
    "                    # Move similar image to the similar images folder\n",
    "                    if not os.path.exists(similar_images_folder+'/'+name+'/'):\n",
    "                        os.mkdir(similar_images_folder+'/'+name+'/')\n",
    "                    shutil.copy(full_image_path, os.path.join(similar_images_folder+'/'+name+\"/\", full_image_filename))\n",
    "                    print(f\"Moved {full_image_filename} with similarity {similarity_percentage:.2f}%\")\n",
    "\n",
    "    print(\"Image filtering and organization completed.\")\n"
   ]
  },
  {
   "cell_type": "code",
   "execution_count": 2,
   "metadata": {},
   "outputs": [
    {
     "ename": "FileNotFoundError",
     "evalue": "[WinError 3] The system cannot find the path specified: './images_cropped/'",
     "output_type": "error",
     "traceback": [
      "\u001b[1;31m---------------------------------------------------------------------------\u001b[0m",
      "\u001b[1;31mFileNotFoundError\u001b[0m                         Traceback (most recent call last)",
      "Cell \u001b[1;32mIn[2], line 1\u001b[0m\n\u001b[1;32m----> 1\u001b[0m images \u001b[39m=\u001b[39m [f \u001b[39mfor\u001b[39;00m f \u001b[39min\u001b[39;00m os\u001b[39m.\u001b[39;49mlistdir(image_folder_path) \u001b[39mif\u001b[39;00m f\u001b[39m.\u001b[39mendswith(\u001b[39m\"\u001b[39m\u001b[39m.png\u001b[39m\u001b[39m\"\u001b[39m) \u001b[39mor\u001b[39;00m f\u001b[39m.\u001b[39mendswith(\u001b[39m\"\u001b[39m\u001b[39m.jpg\u001b[39m\u001b[39m\"\u001b[39m) \u001b[39mor\u001b[39;00m f\u001b[39m.\u001b[39mendswith(\u001b[39m\"\u001b[39m\u001b[39m.PNG\u001b[39m\u001b[39m\"\u001b[39m) \u001b[39mor\u001b[39;00m f\u001b[39m.\u001b[39mendswith(\u001b[39m\"\u001b[39m\u001b[39m.JPG\u001b[39m\u001b[39m\"\u001b[39m)]\n\u001b[0;32m      2\u001b[0m images\u001b[39m.\u001b[39msort()\n\u001b[0;32m      4\u001b[0m \u001b[39mfor\u001b[39;00m image_filename \u001b[39min\u001b[39;00m images:\n",
      "\u001b[1;31mFileNotFoundError\u001b[0m: [WinError 3] The system cannot find the path specified: './images_cropped/'"
     ]
    }
   ],
   "source": [
    "images = [f for f in os.listdir(image_folder_path) if f.endswith(\".png\") or f.endswith(\".jpg\") or f.endswith(\".PNG\") or f.endswith(\".JPG\")]\n",
    "images.sort()\n",
    "\n",
    "for image_filename in images:\n",
    "    image_path = os.path.join(image_folder_path, image_filename)\n",
    "    find_and_create(image_path,image_filename.split('.')[0])"
   ]
  }
 ],
 "metadata": {
  "kernelspec": {
   "display_name": "Python 3",
   "language": "python",
   "name": "python3"
  },
  "language_info": {
   "codemirror_mode": {
    "name": "ipython",
    "version": 3
   },
   "file_extension": ".py",
   "mimetype": "text/x-python",
   "name": "python",
   "nbconvert_exporter": "python",
   "pygments_lexer": "ipython3",
   "version": "3.10.10"
  },
  "orig_nbformat": 4
 },
 "nbformat": 4,
 "nbformat_minor": 2
}
