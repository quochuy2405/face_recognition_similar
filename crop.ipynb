{
 "cells": [
  {
   "cell_type": "code",
   "execution_count": 2,
   "metadata": {},
   "outputs": [
    {
     "name": "stdout",
     "output_type": "stream",
     "text": [
      "./full_images/IMG_3464.PNG\n",
      "SUCCESS: [IMG_3464.PNG]\n",
      "./full_images/IMG_4013.JPG\n",
      "SUCCESS: [IMG_4013.JPG]\n",
      "./full_images/IMG_4016 copy.JPG\n",
      "SUCCESS: [IMG_4016 copy.JPG]\n",
      "./full_images/IMG_4016.JPG\n",
      "SUCCESS: [IMG_4016.JPG]\n",
      "./full_images/IMG_4240.JPG\n",
      "SUCCESS: [IMG_4240.JPG]\n"
     ]
    }
   ],
   "source": [
    "import os\n",
    "import cv2\n",
    "import sys\n",
    "import dlib\n",
    "from imutils import face_utils\n",
    "\n",
    "def crop_boundary(top, bottom, left, right, faces):\n",
    "    if faces:\n",
    "        top = max(0, top - 200)\n",
    "        left = max(0, left - 100)\n",
    "        right += 100\n",
    "        bottom += 100\n",
    "    else:\n",
    "        top = max(0, top - 50)\n",
    "        left = max(0, left - 50)\n",
    "        right += 50\n",
    "        bottom += 50\n",
    "\n",
    "    return (top, bottom, left, right)\n",
    "\n",
    "def crop_face(imgpath, dirName, extName):\n",
    "    frame = cv2.imread(imgpath)\n",
    "    basename = os.path.basename(imgpath)\n",
    "    basename_without_ext = os.path.splitext(basename)[0]\n",
    "    if frame is None:\n",
    "        return print(f\"Invalid file path: [{imgpath}]\")\n",
    "    frame = cv2.cvtColor(frame, cv2.COLOR_BGR2RGB)\n",
    "    gray = cv2.cvtColor(frame, cv2.COLOR_BGR2GRAY)\n",
    "    face_detect = dlib.get_frontal_face_detector()\n",
    "    rects = face_detect(gray, 1)\n",
    "    if not len(rects):\n",
    "        return print(f\"Sorry. HOG could not detect any faces from your image.\\n[{imgpath}]\")\n",
    "    for (i, rect) in enumerate(rects):\n",
    "        (x, y, w, h) = face_utils.rect_to_bb(rect)\n",
    "        \n",
    "        top, bottom, left, right = crop_boundary(y, y + h, x, x + w, len(rects) <= 2)\n",
    "        crop_img_path = os.path.join(dirName, f\"{basename_without_ext}_crop_{i}{extName}\")\n",
    "        crop_img = frame[top: bottom, left: right]\n",
    "        cv2.imwrite(crop_img_path, cv2.cvtColor(crop_img, cv2.COLOR_RGB2BGR))\n",
    "\n",
    "    return print(f\"SUCCESS: [{basename}]\")\n",
    "\n",
    "def process_images_in_directory(input_dir, output_dir, extName):\n",
    "    os.makedirs(output_dir, exist_ok=True)\n",
    "\n",
    "    for filename in os.listdir(input_dir):\n",
    "       \n",
    "        imgpath = input_dir+ filename\n",
    "        print(imgpath)\n",
    "        crop_face(imgpath, output_dir, extName)\n",
    "\n",
    "def main():\n",
    "    extName = \".png\"\n",
    "    input_dir = \"./full_images/\"\n",
    "    output_dir = \"result\"\n",
    "    process_images_in_directory(input_dir, output_dir, extName)\n",
    "\n",
    "if __name__ == \"__main__\":\n",
    "    main()\n"
   ]
  }
 ],
 "metadata": {
  "kernelspec": {
   "display_name": "Python 3",
   "language": "python",
   "name": "python3"
  },
  "language_info": {
   "codemirror_mode": {
    "name": "ipython",
    "version": 3
   },
   "file_extension": ".py",
   "mimetype": "text/x-python",
   "name": "python",
   "nbconvert_exporter": "python",
   "pygments_lexer": "ipython3",
   "version": "3.10.10"
  },
  "orig_nbformat": 4
 },
 "nbformat": 4,
 "nbformat_minor": 2
}
