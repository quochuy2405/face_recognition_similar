{
 "cells": [
  {
   "cell_type": "code",
   "execution_count": 5,
   "metadata": {},
   "outputs": [
    {
     "name": "stdout",
     "output_type": "stream",
     "text": [
      "Chia thư mục theo khuôn mặt hoàn thành.\n"
     ]
    }
   ],
   "source": [
    "import os\n",
    "import cv2\n",
    "import dlib\n",
    "\n",
    "# Đường dẫn tới thư mục chứa hình ảnh của các người khác nhau\n",
    "input_folder = \"./full_images/\"\n",
    "\n",
    "# Đường dẫn tới thư mục đầu ra (sẽ tạo tự động)\n",
    "output_folder = \"./out_full_images/\"\n",
    "\n",
    "# Tạo thư mục đầu ra nếu chưa tồn tại\n",
    "os.makedirs(output_folder, exist_ok=True)\n",
    "\n",
    "# Khởi tạo bộ nhận diện khuôn mặt dlib\n",
    "detector = dlib.get_frontal_face_detector()\n",
    "\n",
    "# Lấy danh sách tất cả các tệp hình ảnh trong thư mục đầu vào\n",
    "image_files = [f for f in os.listdir(input_folder) if f.endswith(\".jpg\") or f.endswith(\".png\")]\n",
    "\n",
    "# Duyệt qua từng tệp hình ảnh\n",
    "for image_file in image_files:\n",
    "    image_path = os.path.join(input_folder, image_file)\n",
    "    image = cv2.imread(image_path)\n",
    "\n",
    "    # Chuyển đổi ảnh sang đen trắng để tăng tốc độ nhận diện\n",
    "    gray = cv2.cvtColor(image, cv2.COLOR_BGR2GRAY)\n",
    "\n",
    "    # Nhận diện khuôn mặt trong ảnh\n",
    "    faces = detector(gray)\n",
    "\n",
    "    # Duyệt qua từng khuôn mặt trong ảnh\n",
    "    for i, face in enumerate(faces):\n",
    "        x, y, w, h = face.left(), face.top(), face.width(), face.height()\n",
    "\n",
    "        # Cắt và lưu khuôn mặt vào thư mục đầu ra\n",
    "        face_image = image[y:y+h, x:x+w]\n",
    "        output_subfolder = os.path.join(output_folder, f\"person_{i}\")\n",
    "        os.makedirs(output_subfolder, exist_ok=True)\n",
    "        output_path = os.path.join(output_subfolder, image_file)\n",
    "        cv2.imwrite(output_path, face_image)\n",
    "\n",
    "print(\"Chia thư mục theo khuôn mặt hoàn thành.\")\n"
   ]
  }
 ],
 "metadata": {
  "kernelspec": {
   "display_name": "Python 3",
   "language": "python",
   "name": "python3"
  },
  "language_info": {
   "codemirror_mode": {
    "name": "ipython",
    "version": 3
   },
   "file_extension": ".py",
   "mimetype": "text/x-python",
   "name": "python",
   "nbconvert_exporter": "python",
   "pygments_lexer": "ipython3",
   "version": "3.10.10"
  },
  "orig_nbformat": 4
 },
 "nbformat": 4,
 "nbformat_minor": 2
}
